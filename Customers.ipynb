{
 "cells": [
  {
   "cell_type": "code",
   "execution_count": 174,
   "metadata": {},
   "outputs": [],
   "source": [
    "def display_categ(feature):\n",
    "    global df\n",
    "    value_counts = df[feature].value_counts()\n",
    "    fig, ax = plt.subplots(figsize=(15, 6))\n",
    "    bar_colors = ['#7C98B3', '#C28569', '#8EB897']  # Custom color palette\n",
    "    ax.bar(value_counts.index, value_counts.values, color=bar_colors)\n",
    "    ax.set_xlabel(f'{feature}', fontsize=12)\n",
    "    ax.set_ylabel('Count', fontsize=12)\n",
    "    ax.set_title(f'Unique Value Counts of {feature}', fontsize=14)\n",
    "    ax.grid(axis='y', linestyle='--', alpha=0.5)\n",
    "    for i, v in enumerate(value_counts.values):\n",
    "        ax.text(i, v + 0.5, str(v), ha='center', va='bottom', fontweight='bold')\n",
    "    plt.xticks(rotation=45, ha='right')\n",
    "    plt.tight_layout()\n",
    "    plt.show()"
   ]
  },
  {
   "cell_type": "code",
   "execution_count": 175,
   "metadata": {},
   "outputs": [],
   "source": [
    "def display_numer(feature):\n",
    "    global df\n",
    "    plt.figure(figsize=(8, 6))\n",
    "    plt.boxplot(df[feature], vert=False, patch_artist=True, boxprops=dict(facecolor='#7C98B3', color='black'), medianprops=dict(color='black'))\n",
    "    plt.xlabel('Values', fontsize=12)\n",
    "    plt.title('Box Plot of {}'.format(feature), fontsize=14)\n",
    "    plt.grid(axis='x', linestyle='--', alpha=0.5)\n",
    "    plt.show()"
   ]
  },
  {
   "cell_type": "code",
   "execution_count": 176,
   "metadata": {},
   "outputs": [],
   "source": [
    "%matplotlib inline\n",
    "import pandas as pd\n",
    "import numpy as np\n",
    "import matplotlib.pyplot as plt\n",
    "import seaborn as sns\n",
    "from sklearn import set_config\n",
    "from sklearn.preprocessing import LabelEncoder\n",
    "import warnings\n",
    "warnings.filterwarnings('ignore')\n",
    "set_config(display='diagram')"
   ]
  },
  {
   "cell_type": "code",
   "execution_count": 177,
   "metadata": {},
   "outputs": [
    {
     "data": {
      "text/html": [
       "<div>\n",
       "<style scoped>\n",
       "    .dataframe tbody tr th:only-of-type {\n",
       "        vertical-align: middle;\n",
       "    }\n",
       "\n",
       "    .dataframe tbody tr th {\n",
       "        vertical-align: top;\n",
       "    }\n",
       "\n",
       "    .dataframe thead th {\n",
       "        text-align: right;\n",
       "    }\n",
       "</style>\n",
       "<table border=\"1\" class=\"dataframe\">\n",
       "  <thead>\n",
       "    <tr style=\"text-align: right;\">\n",
       "      <th></th>\n",
       "      <th>Trx_Rank</th>\n",
       "      <th>Points</th>\n",
       "      <th>Trx_Vlu</th>\n",
       "      <th>Trx_Age</th>\n",
       "      <th>Customer_Age</th>\n",
       "      <th>Category In English</th>\n",
       "      <th>User_Id</th>\n",
       "      <th>Mer_Id</th>\n",
       "    </tr>\n",
       "  </thead>\n",
       "  <tbody>\n",
       "    <tr>\n",
       "      <th>0</th>\n",
       "      <td>1</td>\n",
       "      <td>20140</td>\n",
       "      <td>2014.0</td>\n",
       "      <td>362</td>\n",
       "      <td>362</td>\n",
       "      <td>Fashion</td>\n",
       "      <td>21053</td>\n",
       "      <td>0</td>\n",
       "    </tr>\n",
       "    <tr>\n",
       "      <th>1</th>\n",
       "      <td>1</td>\n",
       "      <td>11200</td>\n",
       "      <td>1120.0</td>\n",
       "      <td>371</td>\n",
       "      <td>368</td>\n",
       "      <td>Fashion</td>\n",
       "      <td>26472</td>\n",
       "      <td>0</td>\n",
       "    </tr>\n",
       "    <tr>\n",
       "      <th>2</th>\n",
       "      <td>2</td>\n",
       "      <td>8500</td>\n",
       "      <td>850.0</td>\n",
       "      <td>368</td>\n",
       "      <td>368</td>\n",
       "      <td>Fashion</td>\n",
       "      <td>26472</td>\n",
       "      <td>0</td>\n",
       "    </tr>\n",
       "    <tr>\n",
       "      <th>3</th>\n",
       "      <td>1</td>\n",
       "      <td>1980</td>\n",
       "      <td>198.0</td>\n",
       "      <td>558</td>\n",
       "      <td>34</td>\n",
       "      <td>Fashion</td>\n",
       "      <td>27075</td>\n",
       "      <td>0</td>\n",
       "    </tr>\n",
       "    <tr>\n",
       "      <th>4</th>\n",
       "      <td>1</td>\n",
       "      <td>2400</td>\n",
       "      <td>240.0</td>\n",
       "      <td>413</td>\n",
       "      <td>413</td>\n",
       "      <td>Fashion</td>\n",
       "      <td>27417</td>\n",
       "      <td>0</td>\n",
       "    </tr>\n",
       "  </tbody>\n",
       "</table>\n",
       "</div>"
      ],
      "text/plain": [
       "   Trx_Rank  Points  Trx_Vlu  Trx_Age  Customer_Age Category In English  \\\n",
       "0         1   20140   2014.0      362           362             Fashion   \n",
       "1         1   11200   1120.0      371           368             Fashion   \n",
       "2         2    8500    850.0      368           368             Fashion   \n",
       "3         1    1980    198.0      558            34             Fashion   \n",
       "4         1    2400    240.0      413           413             Fashion   \n",
       "\n",
       "   User_Id  Mer_Id  \n",
       "0    21053       0  \n",
       "1    26472       0  \n",
       "2    26472       0  \n",
       "3    27075       0  \n",
       "4    27417       0  "
      ]
     },
     "execution_count": 177,
     "metadata": {},
     "output_type": "execute_result"
    }
   ],
   "source": [
    "df = pd.read_csv('Cleaned_Data_Merchant_Level.csv')\n",
    "df.head()"
   ]
  },
  {
   "cell_type": "code",
   "execution_count": 178,
   "metadata": {},
   "outputs": [
    {
     "name": "stdout",
     "output_type": "stream",
     "text": [
      "<class 'pandas.core.frame.DataFrame'>\n",
      "RangeIndex: 43672 entries, 0 to 43671\n",
      "Data columns (total 8 columns):\n",
      " #   Column               Non-Null Count  Dtype  \n",
      "---  ------               --------------  -----  \n",
      " 0   Trx_Rank             43672 non-null  int64  \n",
      " 1   Points               43672 non-null  int64  \n",
      " 2   Trx_Vlu              43672 non-null  float64\n",
      " 3   Trx_Age              43672 non-null  int64  \n",
      " 4   Customer_Age         43672 non-null  int64  \n",
      " 5   Category In English  43672 non-null  object \n",
      " 6   User_Id              43672 non-null  int64  \n",
      " 7   Mer_Id               43672 non-null  int64  \n",
      "dtypes: float64(1), int64(6), object(1)\n",
      "memory usage: 2.7+ MB\n"
     ]
    }
   ],
   "source": [
    "df.info()"
   ]
  },
  {
   "cell_type": "code",
   "execution_count": 179,
   "metadata": {},
   "outputs": [],
   "source": [
    "df.drop_duplicates(inplace=True)"
   ]
  },
  {
   "cell_type": "code",
   "execution_count": 180,
   "metadata": {},
   "outputs": [
    {
     "data": {
      "text/plain": [
       "Trx_Rank               0.0\n",
       "Points                 0.0\n",
       "Trx_Vlu                0.0\n",
       "Trx_Age                0.0\n",
       "Customer_Age           0.0\n",
       "Category In English    0.0\n",
       "User_Id                0.0\n",
       "Mer_Id                 0.0\n",
       "dtype: float64"
      ]
     },
     "execution_count": 180,
     "metadata": {},
     "output_type": "execute_result"
    }
   ],
   "source": [
    "(df.isnull().sum()*100)/len(df)"
   ]
  },
  {
   "cell_type": "code",
   "execution_count": 181,
   "metadata": {},
   "outputs": [
    {
     "data": {
      "text/plain": [
       "Trx_Rank                  17\n",
       "Points                  5911\n",
       "Trx_Vlu                 5911\n",
       "Trx_Age                  573\n",
       "Customer_Age             527\n",
       "Category In English        7\n",
       "User_Id                33457\n",
       "Mer_Id                    56\n",
       "dtype: int64"
      ]
     },
     "execution_count": 181,
     "metadata": {},
     "output_type": "execute_result"
    }
   ],
   "source": [
    "df.nunique()"
   ]
  },
  {
   "cell_type": "code",
   "execution_count": 182,
   "metadata": {},
   "outputs": [
    {
     "data": {
      "text/html": [
       "<div>\n",
       "<style scoped>\n",
       "    .dataframe tbody tr th:only-of-type {\n",
       "        vertical-align: middle;\n",
       "    }\n",
       "\n",
       "    .dataframe tbody tr th {\n",
       "        vertical-align: top;\n",
       "    }\n",
       "\n",
       "    .dataframe thead th {\n",
       "        text-align: right;\n",
       "    }\n",
       "</style>\n",
       "<table border=\"1\" class=\"dataframe\">\n",
       "  <thead>\n",
       "    <tr style=\"text-align: right;\">\n",
       "      <th></th>\n",
       "      <th>count</th>\n",
       "      <th>mean</th>\n",
       "      <th>std</th>\n",
       "      <th>min</th>\n",
       "      <th>25%</th>\n",
       "      <th>50%</th>\n",
       "      <th>75%</th>\n",
       "      <th>max</th>\n",
       "    </tr>\n",
       "  </thead>\n",
       "  <tbody>\n",
       "    <tr>\n",
       "      <th>Trx_Rank</th>\n",
       "      <td>43672.0</td>\n",
       "      <td>1.265227</td>\n",
       "      <td>0.776549</td>\n",
       "      <td>1.0</td>\n",
       "      <td>1.00</td>\n",
       "      <td>1.00</td>\n",
       "      <td>1.00</td>\n",
       "      <td>17.0</td>\n",
       "    </tr>\n",
       "    <tr>\n",
       "      <th>Points</th>\n",
       "      <td>43672.0</td>\n",
       "      <td>3312.249748</td>\n",
       "      <td>5756.374137</td>\n",
       "      <td>20.0</td>\n",
       "      <td>1220.00</td>\n",
       "      <td>1893.50</td>\n",
       "      <td>3100.00</td>\n",
       "      <td>263800.0</td>\n",
       "    </tr>\n",
       "    <tr>\n",
       "      <th>Trx_Vlu</th>\n",
       "      <td>43672.0</td>\n",
       "      <td>331.224975</td>\n",
       "      <td>575.637414</td>\n",
       "      <td>2.0</td>\n",
       "      <td>122.00</td>\n",
       "      <td>189.35</td>\n",
       "      <td>310.00</td>\n",
       "      <td>26380.0</td>\n",
       "    </tr>\n",
       "    <tr>\n",
       "      <th>Trx_Age</th>\n",
       "      <td>43672.0</td>\n",
       "      <td>185.186664</td>\n",
       "      <td>121.989540</td>\n",
       "      <td>1.0</td>\n",
       "      <td>62.00</td>\n",
       "      <td>203.00</td>\n",
       "      <td>271.00</td>\n",
       "      <td>698.0</td>\n",
       "    </tr>\n",
       "    <tr>\n",
       "      <th>Customer_Age</th>\n",
       "      <td>43672.0</td>\n",
       "      <td>144.027844</td>\n",
       "      <td>114.764448</td>\n",
       "      <td>1.0</td>\n",
       "      <td>34.00</td>\n",
       "      <td>115.00</td>\n",
       "      <td>252.00</td>\n",
       "      <td>682.0</td>\n",
       "    </tr>\n",
       "    <tr>\n",
       "      <th>User_Id</th>\n",
       "      <td>43672.0</td>\n",
       "      <td>17173.411889</td>\n",
       "      <td>9665.399084</td>\n",
       "      <td>0.0</td>\n",
       "      <td>8710.75</td>\n",
       "      <td>17561.00</td>\n",
       "      <td>25634.25</td>\n",
       "      <td>33518.0</td>\n",
       "    </tr>\n",
       "    <tr>\n",
       "      <th>Mer_Id</th>\n",
       "      <td>43672.0</td>\n",
       "      <td>16.277111</td>\n",
       "      <td>16.099288</td>\n",
       "      <td>0.0</td>\n",
       "      <td>8.00</td>\n",
       "      <td>8.00</td>\n",
       "      <td>26.00</td>\n",
       "      <td>56.0</td>\n",
       "    </tr>\n",
       "  </tbody>\n",
       "</table>\n",
       "</div>"
      ],
      "text/plain": [
       "                count          mean          std   min      25%       50%  \\\n",
       "Trx_Rank      43672.0      1.265227     0.776549   1.0     1.00      1.00   \n",
       "Points        43672.0   3312.249748  5756.374137  20.0  1220.00   1893.50   \n",
       "Trx_Vlu       43672.0    331.224975   575.637414   2.0   122.00    189.35   \n",
       "Trx_Age       43672.0    185.186664   121.989540   1.0    62.00    203.00   \n",
       "Customer_Age  43672.0    144.027844   114.764448   1.0    34.00    115.00   \n",
       "User_Id       43672.0  17173.411889  9665.399084   0.0  8710.75  17561.00   \n",
       "Mer_Id        43672.0     16.277111    16.099288   0.0     8.00      8.00   \n",
       "\n",
       "                   75%       max  \n",
       "Trx_Rank          1.00      17.0  \n",
       "Points         3100.00  263800.0  \n",
       "Trx_Vlu         310.00   26380.0  \n",
       "Trx_Age         271.00     698.0  \n",
       "Customer_Age    252.00     682.0  \n",
       "User_Id       25634.25   33518.0  \n",
       "Mer_Id           26.00      56.0  "
      ]
     },
     "execution_count": 182,
     "metadata": {},
     "output_type": "execute_result"
    }
   ],
   "source": [
    "df.describe().T"
   ]
  },
  {
   "cell_type": "markdown",
   "metadata": {},
   "source": [
    "- Trx_Rank  --> The number of transaction of this user with this merchant\n",
    "- Points  --> The Number of points redeemed in this transaction\n",
    "- Trx_Vlu  --> the equivalent values in pound to the redeemed points\n",
    "- Trx_Age  --> how many days this transaction was done\n",
    "- Customer_Age  --> the number of days from which the user made his last transaction ever\n",
    "- Category In English  --> the category of the merchant\n",
    "- User_Id  \n",
    "- Mer_Id"
   ]
  },
  {
   "cell_type": "code",
   "execution_count": 183,
   "metadata": {},
   "outputs": [
    {
     "data": {
      "image/png": "[encoded data removed]",
      "text/plain": [
       "<Figure size 1080x432 with 1 Axes>"
      ]
     },
     "metadata": {
      "needs_background": "light"
     },
     "output_type": "display_data"
    },
    {
     "data": {
      "image/png": "[encoded data removed]",
      "text/plain": [
       "<Figure size 1080x432 with 1 Axes>"
      ]
     },
     "metadata": {
      "needs_background": "light"
     },
     "output_type": "display_data"
    }
   ],
   "source": [
    "cat=['Category In English','Trx_Rank']\n",
    "for i in range(len(cat)):\n",
    "    display_categ(cat[i])"
   ]
  },
  {
   "cell_type": "code",
   "execution_count": 184,
   "metadata": {},
   "outputs": [
    {
     "data": {
      "image/png": "[encoded data removed]",
      "text/plain": [
       "<Figure size 576x432 with 1 Axes>"
      ]
     },
     "metadata": {
      "needs_background": "light"
     },
     "output_type": "display_data"
    },
    {
     "data": {
      "image/png": "[encoded data removed]",
      "text/plain": [
       "<Figure size 576x432 with 1 Axes>"
      ]
     },
     "metadata": {
      "needs_background": "light"
     },
     "output_type": "display_data"
    },
    {
     "data": {
      "image/png": "[encoded data removed]",
      "text/plain": [
       "<Figure size 576x432 with 1 Axes>"
      ]
     },
     "metadata": {
      "needs_background": "light"
     },
     "output_type": "display_data"
    }
   ],
   "source": [
    "num = ['Trx_Age','Trx_Vlu','Customer_Age']\n",
    "for i in range(len(num)):\n",
    "    display_numer(num[i])"
   ]
  },
  {
   "cell_type": "code",
   "execution_count": 185,
   "metadata": {},
   "outputs": [
    {
     "data": {
      "text/plain": [
       "(39026, 8)"
      ]
     },
     "execution_count": 185,
     "metadata": {},
     "output_type": "execute_result"
    }
   ],
   "source": [
    "# one or more\n",
    "numerical_col=['Customer_Age','Trx_Vlu']\n",
    "Q1 = df[numerical_col].quantile(0.25)\n",
    "Q3 = df[numerical_col].quantile(0.75)\n",
    "IQR = Q3 - Q1\n",
    "df.shape\n",
    "df = df[~((df[numerical_col] < (Q1 - 1.5 * IQR)) |(df[numerical_col] > (Q3 + 1.5 * IQR))).any(axis=1)]\n",
    "df.reset_index(drop=True, inplace=True)\n",
    "df.shape"
   ]
  },
  {
   "cell_type": "code",
   "execution_count": 186,
   "metadata": {},
   "outputs": [
    {
     "data": {
      "image/png": "[encoded data removed]",
      "text/plain": [
       "<Figure size 576x432 with 2 Axes>"
      ]
     },
     "metadata": {
      "needs_background": "light"
     },
     "output_type": "display_data"
    }
   ],
   "source": [
    "corr_matrix = df.drop(['User_Id','Mer_Id','Points'], axis=1).corr()\n",
    "plt.figure(figsize=(8, 6))\n",
    "sns.heatmap(corr_matrix, annot=True, square=True)\n",
    "plt.title('Correlation Matrix of Numerical Features', fontsize=14)\n",
    "plt.show()"
   ]
  },
  {
   "cell_type": "code",
   "execution_count": 187,
   "metadata": {},
   "outputs": [],
   "source": [
    "import pandas as pd\n",
    "import numpy as np\n",
    "from sklearn.cluster import KMeans\n",
    "\n",
    "# Sample data (replace this with your actual data)\n",
    "\n",
    "# Perform RFM clustering\n",
    "features = df[['Customer_Age', 'Trx_Rank', 'Trx_Vlu']]\n",
    "scaler=StandardScaler()\n",
    "scaled=scaler.fit_transform(features)"
   ]
  },
  {
   "cell_type": "code",
   "execution_count": 188,
   "metadata": {},
   "outputs": [
    {
     "data": {
      "text/plain": [
       "[<matplotlib.lines.Line2D at 0x17f31fca348>]"
      ]
     },
     "execution_count": 188,
     "metadata": {},
     "output_type": "execute_result"
    },
    {
     "data": {
      "image/png": "[encoded data removed]",
      "text/plain": [
       "<Figure size 864x576 with 1 Axes>"
      ]
     },
     "metadata": {
      "needs_background": "light"
     },
     "output_type": "display_data"
    }
   ],
   "source": [
    "from sklearn.cluster import KMeans\n",
    "\n",
    "inertia=[]\n",
    "\n",
    "for i in np.arange(1,11):\n",
    "    kmeans=KMeans(n_clusters=i)\n",
    "    kmeans.fit(scaled)\n",
    "    inertia.append(kmeans.inertia_)\n",
    "\n",
    "\n",
    "plt.figure(figsize=(12,8))\n",
    "plt.plot(inertia, marker=\"o\")"
   ]
  },
  {
   "cell_type": "code",
   "execution_count": 189,
   "metadata": {},
   "outputs": [],
   "source": [
    "kmeans = KMeans(n_clusters=3, random_state=42)\n",
    "df['Cluster'] = kmeans.fit_predict(scaled)"
   ]
  },
  {
   "cell_type": "code",
   "execution_count": 190,
   "metadata": {},
   "outputs": [
    {
     "name": "stdout",
     "output_type": "stream",
     "text": [
      "0\n",
      "For User ID 29107:\n",
      "Recommended Merchant: 56\n",
      "Recommended Category: Other\n"
     ]
    }
   ],
   "source": [
    "def recommend_merchant(user_id):\n",
    "    user_data = df[df['User_Id'] == user_id]\n",
    "    cluster_label = user_data['Cluster'].iloc[0]\n",
    "    recommended_merchant = user_data[user_data['Cluster'] == cluster_label]['Mer_Id'].mode().iloc[0]\n",
    "    print(cluster_label)\n",
    "    return recommended_merchant\n",
    "\n",
    "# Function to recommend a category based on user ID\n",
    "def recommend_category(user_id):\n",
    "    user_data = df[df['User_Id'] == user_id]\n",
    "    cluster_label = user_data['Cluster'].iloc[0]\n",
    "    recommended_category = user_data[user_data['Cluster'] == cluster_label]['Category In English'].mode().iloc[0]\n",
    "    return recommended_category\n",
    "user_id_to_recommend = 29107\n",
    "recommended_merchant = recommend_merchant(user_id_to_recommend)\n",
    "recommended_category = recommend_category(user_id_to_recommend)\n",
    "\n",
    "print(f\"For User ID {user_id_to_recommend}:\")\n",
    "print(f\"Recommended Merchant: {recommended_merchant}\")\n",
    "print(f\"Recommended Category: {recommended_category}\")"
   ]
  },
  {
   "cell_type": "code",
   "execution_count": 191,
   "metadata": {},
   "outputs": [],
   "source": [
    "import joblib\n",
    "joblib.dump(kmeans, 'rfm_model.pkl')\n",
    "file_path = 'clusters.csv'\n",
    "df.to_csv(file_path, index=False)"
   ]
  },
  {
   "cell_type": "code",
   "execution_count": 192,
   "metadata": {},
   "outputs": [
    {
     "data": {
      "text/html": [
       "<div>\n",
       "<style scoped>\n",
       "    .dataframe tbody tr th:only-of-type {\n",
       "        vertical-align: middle;\n",
       "    }\n",
       "\n",
       "    .dataframe tbody tr th {\n",
       "        vertical-align: top;\n",
       "    }\n",
       "\n",
       "    .dataframe thead th {\n",
       "        text-align: right;\n",
       "    }\n",
       "</style>\n",
       "<table border=\"1\" class=\"dataframe\">\n",
       "  <thead>\n",
       "    <tr style=\"text-align: right;\">\n",
       "      <th></th>\n",
       "      <th>Frequency</th>\n",
       "      <th>Monetary</th>\n",
       "      <th>Recency</th>\n",
       "    </tr>\n",
       "    <tr>\n",
       "      <th>User_Id</th>\n",
       "      <th></th>\n",
       "      <th></th>\n",
       "      <th></th>\n",
       "    </tr>\n",
       "  </thead>\n",
       "  <tbody>\n",
       "    <tr>\n",
       "      <th>0</th>\n",
       "      <td>1</td>\n",
       "      <td>442.7</td>\n",
       "      <td>281</td>\n",
       "    </tr>\n",
       "    <tr>\n",
       "      <th>1</th>\n",
       "      <td>1</td>\n",
       "      <td>249.0</td>\n",
       "      <td>34</td>\n",
       "    </tr>\n",
       "    <tr>\n",
       "      <th>2</th>\n",
       "      <td>1</td>\n",
       "      <td>300.0</td>\n",
       "      <td>236</td>\n",
       "    </tr>\n",
       "    <tr>\n",
       "      <th>3</th>\n",
       "      <td>1</td>\n",
       "      <td>162.0</td>\n",
       "      <td>320</td>\n",
       "    </tr>\n",
       "    <tr>\n",
       "      <th>4</th>\n",
       "      <td>1</td>\n",
       "      <td>70.0</td>\n",
       "      <td>407</td>\n",
       "    </tr>\n",
       "    <tr>\n",
       "      <th>...</th>\n",
       "      <td>...</td>\n",
       "      <td>...</td>\n",
       "      <td>...</td>\n",
       "    </tr>\n",
       "    <tr>\n",
       "      <th>33514</th>\n",
       "      <td>3</td>\n",
       "      <td>594.0</td>\n",
       "      <td>101</td>\n",
       "    </tr>\n",
       "    <tr>\n",
       "      <th>33515</th>\n",
       "      <td>1</td>\n",
       "      <td>48.0</td>\n",
       "      <td>244</td>\n",
       "    </tr>\n",
       "    <tr>\n",
       "      <th>33516</th>\n",
       "      <td>1</td>\n",
       "      <td>132.0</td>\n",
       "      <td>256</td>\n",
       "    </tr>\n",
       "    <tr>\n",
       "      <th>33517</th>\n",
       "      <td>1</td>\n",
       "      <td>210.0</td>\n",
       "      <td>13</td>\n",
       "    </tr>\n",
       "    <tr>\n",
       "      <th>33518</th>\n",
       "      <td>2</td>\n",
       "      <td>568.0</td>\n",
       "      <td>55</td>\n",
       "    </tr>\n",
       "  </tbody>\n",
       "</table>\n",
       "<p>30867 rows × 3 columns</p>\n",
       "</div>"
      ],
      "text/plain": [
       "         Frequency  Monetary  Recency\n",
       "User_Id                              \n",
       "0                1     442.7      281\n",
       "1                1     249.0       34\n",
       "2                1     300.0      236\n",
       "3                1     162.0      320\n",
       "4                1      70.0      407\n",
       "...            ...       ...      ...\n",
       "33514            3     594.0      101\n",
       "33515            1      48.0      244\n",
       "33516            1     132.0      256\n",
       "33517            1     210.0       13\n",
       "33518            2     568.0       55\n",
       "\n",
       "[30867 rows x 3 columns]"
      ]
     },
     "execution_count": 192,
     "metadata": {},
     "output_type": "execute_result"
    }
   ],
   "source": [
    "RFM = df.groupby(['User_Id']).agg({'Trx_Rank':'max','Trx_Vlu': 'sum','Customer_Age':'max'})\n",
    "RFM.columns=['Frequency','Monetary','Recency']\n",
    "RFM"
   ]
  },
  {
   "cell_type": "code",
   "execution_count": 194,
   "metadata": {},
   "outputs": [
    {
     "data": {
      "text/html": [
       "<div>\n",
       "<style scoped>\n",
       "    .dataframe tbody tr th:only-of-type {\n",
       "        vertical-align: middle;\n",
       "    }\n",
       "\n",
       "    .dataframe tbody tr th {\n",
       "        vertical-align: top;\n",
       "    }\n",
       "\n",
       "    .dataframe thead th {\n",
       "        text-align: right;\n",
       "    }\n",
       "</style>\n",
       "<table border=\"1\" class=\"dataframe\">\n",
       "  <thead>\n",
       "    <tr style=\"text-align: right;\">\n",
       "      <th></th>\n",
       "      <th>Frequency</th>\n",
       "      <th>Monetary</th>\n",
       "      <th>Recency</th>\n",
       "      <th>Cluster</th>\n",
       "    </tr>\n",
       "    <tr>\n",
       "      <th>User_Id</th>\n",
       "      <th></th>\n",
       "      <th></th>\n",
       "      <th></th>\n",
       "      <th></th>\n",
       "    </tr>\n",
       "  </thead>\n",
       "  <tbody>\n",
       "    <tr>\n",
       "      <th>0</th>\n",
       "      <td>1</td>\n",
       "      <td>442.7</td>\n",
       "      <td>281</td>\n",
       "      <td>3</td>\n",
       "    </tr>\n",
       "    <tr>\n",
       "      <th>1</th>\n",
       "      <td>1</td>\n",
       "      <td>249.0</td>\n",
       "      <td>34</td>\n",
       "      <td>1</td>\n",
       "    </tr>\n",
       "    <tr>\n",
       "      <th>2</th>\n",
       "      <td>1</td>\n",
       "      <td>300.0</td>\n",
       "      <td>236</td>\n",
       "      <td>3</td>\n",
       "    </tr>\n",
       "    <tr>\n",
       "      <th>3</th>\n",
       "      <td>1</td>\n",
       "      <td>162.0</td>\n",
       "      <td>320</td>\n",
       "      <td>3</td>\n",
       "    </tr>\n",
       "    <tr>\n",
       "      <th>4</th>\n",
       "      <td>1</td>\n",
       "      <td>70.0</td>\n",
       "      <td>407</td>\n",
       "      <td>3</td>\n",
       "    </tr>\n",
       "    <tr>\n",
       "      <th>...</th>\n",
       "      <td>...</td>\n",
       "      <td>...</td>\n",
       "      <td>...</td>\n",
       "      <td>...</td>\n",
       "    </tr>\n",
       "    <tr>\n",
       "      <th>33514</th>\n",
       "      <td>3</td>\n",
       "      <td>594.0</td>\n",
       "      <td>101</td>\n",
       "      <td>2</td>\n",
       "    </tr>\n",
       "    <tr>\n",
       "      <th>33515</th>\n",
       "      <td>1</td>\n",
       "      <td>48.0</td>\n",
       "      <td>244</td>\n",
       "      <td>3</td>\n",
       "    </tr>\n",
       "    <tr>\n",
       "      <th>33516</th>\n",
       "      <td>1</td>\n",
       "      <td>132.0</td>\n",
       "      <td>256</td>\n",
       "      <td>3</td>\n",
       "    </tr>\n",
       "    <tr>\n",
       "      <th>33517</th>\n",
       "      <td>1</td>\n",
       "      <td>210.0</td>\n",
       "      <td>13</td>\n",
       "      <td>1</td>\n",
       "    </tr>\n",
       "    <tr>\n",
       "      <th>33518</th>\n",
       "      <td>2</td>\n",
       "      <td>568.0</td>\n",
       "      <td>55</td>\n",
       "      <td>2</td>\n",
       "    </tr>\n",
       "  </tbody>\n",
       "</table>\n",
       "<p>30867 rows × 4 columns</p>\n",
       "</div>"
      ],
      "text/plain": [
       "         Frequency  Monetary  Recency  Cluster\n",
       "User_Id                                       \n",
       "0                1     442.7      281        3\n",
       "1                1     249.0       34        1\n",
       "2                1     300.0      236        3\n",
       "3                1     162.0      320        3\n",
       "4                1      70.0      407        3\n",
       "...            ...       ...      ...      ...\n",
       "33514            3     594.0      101        2\n",
       "33515            1      48.0      244        3\n",
       "33516            1     132.0      256        3\n",
       "33517            1     210.0       13        1\n",
       "33518            2     568.0       55        2\n",
       "\n",
       "[30867 rows x 4 columns]"
      ]
     },
     "execution_count": 194,
     "metadata": {},
     "output_type": "execute_result"
    }
   ],
   "source": [
    "features = RFM\n",
    "scaler=StandardScaler()\n",
    "scaled=scaler.fit_transform(features)\n",
    "kmeans = KMeans(n_clusters=3, random_state=42)\n",
    "RFM['Cluster'] = kmeans.fit_predict(scaled)+1\n",
    "RFM"
   ]
  },
  {
   "cell_type": "code",
   "execution_count": 196,
   "metadata": {},
   "outputs": [
    {
     "data": {
      "text/html": [
       "<div>\n",
       "<style scoped>\n",
       "    .dataframe tbody tr th:only-of-type {\n",
       "        vertical-align: middle;\n",
       "    }\n",
       "\n",
       "    .dataframe tbody tr th {\n",
       "        vertical-align: top;\n",
       "    }\n",
       "\n",
       "    .dataframe thead th {\n",
       "        text-align: right;\n",
       "    }\n",
       "</style>\n",
       "<table border=\"1\" class=\"dataframe\">\n",
       "  <thead>\n",
       "    <tr style=\"text-align: right;\">\n",
       "      <th></th>\n",
       "      <th>Recency</th>\n",
       "      <th>Frequency</th>\n",
       "      <th>Monetary</th>\n",
       "    </tr>\n",
       "    <tr>\n",
       "      <th>Cluster</th>\n",
       "      <th></th>\n",
       "      <th></th>\n",
       "      <th></th>\n",
       "    </tr>\n",
       "  </thead>\n",
       "  <tbody>\n",
       "    <tr>\n",
       "      <th>1</th>\n",
       "      <td>62.191256</td>\n",
       "      <td>1.154303</td>\n",
       "      <td>258.882366</td>\n",
       "    </tr>\n",
       "    <tr>\n",
       "      <th>2</th>\n",
       "      <td>77.312356</td>\n",
       "      <td>3.111432</td>\n",
       "      <td>679.354850</td>\n",
       "    </tr>\n",
       "    <tr>\n",
       "      <th>3</th>\n",
       "      <td>266.010507</td>\n",
       "      <td>1.037729</td>\n",
       "      <td>191.922822</td>\n",
       "    </tr>\n",
       "  </tbody>\n",
       "</table>\n",
       "</div>"
      ],
      "text/plain": [
       "            Recency  Frequency    Monetary\n",
       "Cluster                                   \n",
       "1         62.191256   1.154303  258.882366\n",
       "2         77.312356   3.111432  679.354850\n",
       "3        266.010507   1.037729  191.922822"
      ]
     },
     "execution_count": 196,
     "metadata": {},
     "output_type": "execute_result"
    }
   ],
   "source": [
    "final=RFM.groupby(\"Cluster\")[\"Recency\",\"Frequency\",\"Monetary\"].mean()\n",
    "final"
   ]
  },
  {
   "cell_type": "code",
   "execution_count": 198,
   "metadata": {},
   "outputs": [],
   "source": [
    "def func(row):\n",
    "    if row[\"Cluster\"]==3:\n",
    "        return 'Rare'\n",
    "    elif row[\"Cluster\"]==2:\n",
    "        return 'Whales'\n",
    "    else:\n",
    "        return 'Avg'"
   ]
  },
  {
   "cell_type": "code",
   "execution_count": 199,
   "metadata": {},
   "outputs": [],
   "source": [
    "RFM['group']=RFM.apply(func, axis=1)"
   ]
  },
  {
   "cell_type": "code",
   "execution_count": 200,
   "metadata": {},
   "outputs": [
    {
     "data": {
      "text/html": [
       "<div>\n",
       "<style scoped>\n",
       "    .dataframe tbody tr th:only-of-type {\n",
       "        vertical-align: middle;\n",
       "    }\n",
       "\n",
       "    .dataframe tbody tr th {\n",
       "        vertical-align: top;\n",
       "    }\n",
       "\n",
       "    .dataframe thead th {\n",
       "        text-align: right;\n",
       "    }\n",
       "</style>\n",
       "<table border=\"1\" class=\"dataframe\">\n",
       "  <thead>\n",
       "    <tr style=\"text-align: right;\">\n",
       "      <th></th>\n",
       "      <th>Frequency</th>\n",
       "      <th>Monetary</th>\n",
       "      <th>Recency</th>\n",
       "      <th>Cluster</th>\n",
       "      <th>group</th>\n",
       "    </tr>\n",
       "    <tr>\n",
       "      <th>User_Id</th>\n",
       "      <th></th>\n",
       "      <th></th>\n",
       "      <th></th>\n",
       "      <th></th>\n",
       "      <th></th>\n",
       "    </tr>\n",
       "  </thead>\n",
       "  <tbody>\n",
       "    <tr>\n",
       "      <th>0</th>\n",
       "      <td>1</td>\n",
       "      <td>442.7</td>\n",
       "      <td>281</td>\n",
       "      <td>3</td>\n",
       "      <td>Rare</td>\n",
       "    </tr>\n",
       "    <tr>\n",
       "      <th>1</th>\n",
       "      <td>1</td>\n",
       "      <td>249.0</td>\n",
       "      <td>34</td>\n",
       "      <td>1</td>\n",
       "      <td>Avg</td>\n",
       "    </tr>\n",
       "    <tr>\n",
       "      <th>2</th>\n",
       "      <td>1</td>\n",
       "      <td>300.0</td>\n",
       "      <td>236</td>\n",
       "      <td>3</td>\n",
       "      <td>Rare</td>\n",
       "    </tr>\n",
       "    <tr>\n",
       "      <th>3</th>\n",
       "      <td>1</td>\n",
       "      <td>162.0</td>\n",
       "      <td>320</td>\n",
       "      <td>3</td>\n",
       "      <td>Rare</td>\n",
       "    </tr>\n",
       "    <tr>\n",
       "      <th>4</th>\n",
       "      <td>1</td>\n",
       "      <td>70.0</td>\n",
       "      <td>407</td>\n",
       "      <td>3</td>\n",
       "      <td>Rare</td>\n",
       "    </tr>\n",
       "    <tr>\n",
       "      <th>...</th>\n",
       "      <td>...</td>\n",
       "      <td>...</td>\n",
       "      <td>...</td>\n",
       "      <td>...</td>\n",
       "      <td>...</td>\n",
       "    </tr>\n",
       "    <tr>\n",
       "      <th>33514</th>\n",
       "      <td>3</td>\n",
       "      <td>594.0</td>\n",
       "      <td>101</td>\n",
       "      <td>2</td>\n",
       "      <td>Whales</td>\n",
       "    </tr>\n",
       "    <tr>\n",
       "      <th>33515</th>\n",
       "      <td>1</td>\n",
       "      <td>48.0</td>\n",
       "      <td>244</td>\n",
       "      <td>3</td>\n",
       "      <td>Rare</td>\n",
       "    </tr>\n",
       "    <tr>\n",
       "      <th>33516</th>\n",
       "      <td>1</td>\n",
       "      <td>132.0</td>\n",
       "      <td>256</td>\n",
       "      <td>3</td>\n",
       "      <td>Rare</td>\n",
       "    </tr>\n",
       "    <tr>\n",
       "      <th>33517</th>\n",
       "      <td>1</td>\n",
       "      <td>210.0</td>\n",
       "      <td>13</td>\n",
       "      <td>1</td>\n",
       "      <td>Avg</td>\n",
       "    </tr>\n",
       "    <tr>\n",
       "      <th>33518</th>\n",
       "      <td>2</td>\n",
       "      <td>568.0</td>\n",
       "      <td>55</td>\n",
       "      <td>2</td>\n",
       "      <td>Whales</td>\n",
       "    </tr>\n",
       "  </tbody>\n",
       "</table>\n",
       "<p>30867 rows × 5 columns</p>\n",
       "</div>"
      ],
      "text/plain": [
       "         Frequency  Monetary  Recency  Cluster   group\n",
       "User_Id                                               \n",
       "0                1     442.7      281        3    Rare\n",
       "1                1     249.0       34        1     Avg\n",
       "2                1     300.0      236        3    Rare\n",
       "3                1     162.0      320        3    Rare\n",
       "4                1      70.0      407        3    Rare\n",
       "...            ...       ...      ...      ...     ...\n",
       "33514            3     594.0      101        2  Whales\n",
       "33515            1      48.0      244        3    Rare\n",
       "33516            1     132.0      256        3    Rare\n",
       "33517            1     210.0       13        1     Avg\n",
       "33518            2     568.0       55        2  Whales\n",
       "\n",
       "[30867 rows x 5 columns]"
      ]
     },
     "execution_count": 200,
     "metadata": {},
     "output_type": "execute_result"
    }
   ],
   "source": [
    "RFM"
   ]
  },
  {
   "cell_type": "code",
   "execution_count": 201,
   "metadata": {},
   "outputs": [
    {
     "data": {
      "text/plain": [
       "Rare      14657\n",
       "Avg       14478\n",
       "Whales     1732\n",
       "Name: group, dtype: int64"
      ]
     },
     "execution_count": 201,
     "metadata": {},
     "output_type": "execute_result"
    }
   ],
   "source": [
    "RFM.group.value_counts()"
   ]
  },
  {
   "cell_type": "code",
   "execution_count": 202,
   "metadata": {},
   "outputs": [
    {
     "data": {
      "text/plain": [
       "<AxesSubplot:>"
      ]
     },
     "execution_count": 202,
     "metadata": {},
     "output_type": "execute_result"
    },
    {
     "data": {
      "image/png": "[encoded data removed]",
      "text/plain": [
       "<Figure size 432x288 with 1 Axes>"
      ]
     },
     "metadata": {
      "needs_background": "light"
     },
     "output_type": "display_data"
    }
   ],
   "source": [
    "result=RFM.group.value_counts()\n",
    "result.plot(kind=\"barh\", color=[\"Orange\",\"Red\",\"Green\"])"
   ]
  }
 ],
 "metadata": {
  "kernelspec": {
   "display_name": "Python 3",
   "language": "python",
   "name": "python3"
  },
  "language_info": {
   "codemirror_mode": {
    "name": "ipython",
    "version": 3
   },
   "file_extension": ".py",
   "mimetype": "text/x-python",
   "name": "python",
   "nbconvert_exporter": "python",
   "pygments_lexer": "ipython3",
   "version": "3.7.6"
  }
 },
 "nbformat": 4,
 "nbformat_minor": 4
}
